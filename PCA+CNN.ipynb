{
 "cells": [
  {
   "cell_type": "code",
   "execution_count": null,
   "metadata": {},
   "outputs": [],
   "source": [
    "CSI_Path = \"\"\n",
    "Pos_Path = \"\" \n",
    "#File Paths"
   ]
  },
  {
   "cell_type": "code",
   "execution_count": null,
   "metadata": {},
   "outputs": [],
   "source": [
    "import h5py\n",
    "import numpy as np\n",
    "from sklearn.decomposition import PCA\n",
    "from sklearn.model_selection import train_test_split\n",
    "from pickle import dump"
   ]
  },
  {
   "cell_type": "markdown",
   "metadata": {},
   "source": [
    "Load Dataset"
   ]
  },
  {
   "cell_type": "code",
   "execution_count": null,
   "metadata": {},
   "outputs": [],
   "source": [
    "f = h5py.File(CSI_Path, \"r\")\n",
    "H_Re, H_Im = f['h_Estimated'][:]\n",
    "f.close()\n",
    "f = h5py.File(Pos_Path , \"r\")\n",
    "pos = f[\"r_Position\"][:]\n",
    "f.close()"
   ]
  },
  {
   "cell_type": "code",
   "execution_count": null,
   "metadata": {},
   "outputs": [],
   "source": [
    "H_Mag = H_Re**2 + H_Im**2\n",
    "H_Mag = np.sqrt(H_Mag)\n",
    "H_Mag = H_Mag.T\n",
    "pos = pos.T"
   ]
  },
  {
   "cell_type": "markdown",
   "metadata": {},
   "source": [
    "Creating a test set"
   ]
  },
  {
   "cell_type": "code",
   "execution_count": null,
   "metadata": {},
   "outputs": [],
   "source": [
    "X_train, X_test, y_train, y_test = train_test_split(H_Mag, pos, test_size=0.1, random_state=42)"
   ]
  },
  {
   "cell_type": "markdown",
   "metadata": {},
   "source": [
    "Channel charting using PCA"
   ]
  },
  {
   "cell_type": "code",
   "execution_count": null,
   "metadata": {},
   "outputs": [],
   "source": [
    "pca = PCA(66)"
   ]
  },
  {
   "cell_type": "code",
   "execution_count": null,
   "metadata": {},
   "outputs": [],
   "source": [
    "X_T = X_train.reshape(-1,924)\n",
    "X_T = pca.fit_transform(X_T)\n",
    "X_T = X_T.reshape(X_train.shape[0] , X_train.shape[1],66)\n",
    "X_T = X_T.reshape(X_train.shape[0],-1,1)"
   ]
  },
  {
   "cell_type": "code",
   "execution_count": null,
   "metadata": {},
   "outputs": [],
   "source": [
    "dump(pca , open(\"PCA_Unsupervised.sav\" , \"wb\"))"
   ]
  },
  {
   "cell_type": "markdown",
   "metadata": {},
   "source": [
    "Estimating postitions from obtained channel charts"
   ]
  },
  {
   "cell_type": "code",
   "execution_count": null,
   "metadata": {},
   "outputs": [],
   "source": [
    "import numpy as np\n",
    "from tensorflow.keras.models import Model,Sequential , load_model\n",
    "from tensorflow.keras.layers import Input\n",
    "from tensorflow.keras.layers import Dense , Dropout, Conv1D ,Flatten\n",
    "\n",
    "from tensorflow.keras.optimizers import Adam, SGD\n",
    "def classifier():\n",
    "    ''' Deep Convolutional NN for position estimation'''\n",
    "    model = Sequential()\n",
    "    model.add(Conv1D(16,3,input_shape=(1056,1)))\n",
    "    model.add(Flatten())\n",
    "    model.add(Dropout(0.03))\n",
    "    model.add(Dense(1024 ,activation = 'relu' ))\n",
    "    model.add(Dropout(0.03))\n",
    "    model.add(Dense(256 ,activation = 'relu' ))\n",
    "    model.add(Dense(128 ,activation = 'relu' ))\n",
    "    model.add(Dropout(0.03))\n",
    "    model.add(Dense(64 ,activation = 'relu' ))\n",
    "    model.add(Dropout(0.03))\n",
    "    model.add(Dense(32 ,activation = 'relu' ))\n",
    "    model.add(Dropout(0.03))\n",
    "    model.add(Dense(16 ,activation = 'relu' ))\n",
    "    model.add(Dropout(0.03))\n",
    "    model.add(Dense(6 ,activation = 'relu' ))\n",
    "    model.add(Dropout(0.03))\n",
    "    model.add(Dense(3))\n",
    "    model.compile(loss='mean_squared_error', optimizer = Adam(7e-4)) \n",
    "    return model"
   ]
  },
  {
   "cell_type": "code",
   "execution_count": null,
   "metadata": {},
   "outputs": [],
   "source": [
    "model = classifier()\n",
    "model.summary()"
   ]
  },
  {
   "cell_type": "code",
   "execution_count": null,
   "metadata": {},
   "outputs": [],
   "source": [
    "'''Training Model'''\n",
    "from tensorflow.keras.callbacks import EarlyStopping, ModelCheckpoint\n",
    "earlystopper = EarlyStopping(patience = 80, verbose=1)\n",
    "checkpointer = ModelCheckpoint('best_PCA_CNN.h5', verbose=1, save_best_only=True)\n",
    "hist = model.fit(X_T,y_train , epochs=1000, validation_split=0.1  ,callbacks=[earlystopper, checkpointer])\n",
    "val_loss = hist.history['val_loss']"
   ]
  },
  {
   "cell_type": "markdown",
   "metadata": {},
   "source": [
    "Testing"
   ]
  },
  {
   "cell_type": "code",
   "execution_count": null,
   "metadata": {},
   "outputs": [],
   "source": [
    "X_test = X_test.reshape(-1,924)\n",
    "X_test = pca.transform(X_test)\n",
    "X_test = X_test.reshape(-1,1056,1)"
   ]
  },
  {
   "cell_type": "code",
   "execution_count": null,
   "metadata": {},
   "outputs": [],
   "source": [
    "from tensorflow.keras.models import Model,Sequential , load_model\n",
    "best = load_model(\"Best_PCA_CNN.h5\")\n",
    "out = best.predict(X_test)\n",
    "error = np.sum((out-y_test)**2 , axis=1)"
   ]
  },
  {
   "cell_type": "code",
   "execution_count": null,
   "metadata": {},
   "outputs": [],
   "source": [
    "np.mean(np.sqrt(error))"
   ]
  },
  {
   "cell_type": "code",
   "execution_count": null,
   "metadata": {},
   "outputs": [],
   "source": [
    "import matplotlib.pyplot as plt\n",
    "plt.title(\"Root Mean Squared Error\")\n",
    "plt.hist(np.sqrt(error),50)"
   ]
  }
 ],
 "metadata": {
  "kernelspec": {
   "display_name": "Python 3",
   "language": "python",
   "name": "python3"
  },
  "language_info": {
   "codemirror_mode": {
    "name": "ipython",
    "version": 3
   },
   "file_extension": ".py",
   "mimetype": "text/x-python",
   "name": "python",
   "nbconvert_exporter": "python",
   "pygments_lexer": "ipython3",
   "version": "3.8.3"
  }
 },
 "nbformat": 4,
 "nbformat_minor": 4
}
