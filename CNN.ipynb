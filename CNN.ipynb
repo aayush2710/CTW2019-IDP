{
  "nbformat": 4,
  "nbformat_minor": 0,
  "metadata": {
    "colab": {
      "name": "Copy of CNN_mimo_paper.ipynb",
      "provenance": [],
      "collapsed_sections": [],
      "machine_shape": "hm",
      "include_colab_link": true
    },
    "kernelspec": {
      "name": "python3",
      "display_name": "Python 3"
    },
    "accelerator": "GPU"
  },
  "cells": [
    {
      "cell_type": "markdown",
      "metadata": {
        "id": "view-in-github",
        "colab_type": "text"
      },
      "source": [
        "<a href=\"https://colab.research.google.com/github/aayush2710/CTW2019-IDP/blob/master/CNN.ipynb\" target=\"_parent\"><img src=\"https://colab.research.google.com/assets/colab-badge.svg\" alt=\"Open In Colab\"/></a>"
      ]
    },
    {
      "cell_type": "code",
      "metadata": {
        "id": "xvjd9G8Uwd_9",
        "colab_type": "code",
        "colab": {}
      },
      "source": [
        "from google.colab import drive\n",
        "drive.mount('/content/gdrive')"
      ],
      "execution_count": null,
      "outputs": []
    },
    {
      "cell_type": "code",
      "metadata": {
        "id": "Dlh7ygQT6qPL",
        "colab_type": "code",
        "colab": {}
      },
      "source": [
        "!ls \"/content/gdrive/My Drive/CTW_2019\""
      ],
      "execution_count": null,
      "outputs": []
    },
    {
      "cell_type": "code",
      "metadata": {
        "id": "gm2_r08hMTQP",
        "colab_type": "code",
        "colab": {
          "base_uri": "https://localhost:8080/",
          "height": 34
        },
        "outputId": "c63101d8-3df8-4aad-ab00-4fb9aec5fc5c"
      },
      "source": [
        "import numpy as np # linear algebra\n",
        "from keras.models import Sequential, Model, load_model\n",
        "from keras.layers import Dense, ReLU, Input, Dropout, Conv2D, AveragePooling2D, Flatten, AveragePooling1D\n",
        "from keras.optimizers import RMSprop\n",
        "import numpy as np\n",
        "import os\n",
        "import h5py\n",
        "import pandas as pd\n",
        "import time\n",
        "import matplotlib.pyplot as plt\n",
        "import tensorflow as tf"
      ],
      "execution_count": null,
      "outputs": [
        {
          "output_type": "stream",
          "text": [
            "Using TensorFlow backend.\n"
          ],
          "name": "stderr"
        }
      ]
    },
    {
      "cell_type": "code",
      "metadata": {
        "id": "1Ifz4qTCOE_F",
        "colab_type": "code",
        "colab": {}
      },
      "source": [
        "'''#getting and processing data\n",
        "#h_Estimated   ---> shape = (2, 924, 16, 17486)\n",
        "#r_postition ---> shape = (3, 17486)\n",
        "#SNR_Est    ---> shape = (16, 17486)\n",
        "'''"
      ],
      "execution_count": null,
      "outputs": []
    },
    {
      "cell_type": "code",
      "metadata": {
        "id": "lqw1VAcHjlDC",
        "colab_type": "code",
        "colab": {}
      },
      "source": [
        "#Reading the dataset\n",
        "\n",
        "f = h5py.File('/content/gdrive/My Drive/CTW_2019/r_Position_CTW_Train.h5','r')\n",
        "pos = f['r_Position']\n",
        "f = h5py.File('/content/gdrive/My Drive/CTW_2019/SNR_CTW_Train.h5','r')\n",
        "SNR = f['SNR_Est']"
      ],
      "execution_count": null,
      "outputs": []
    },
    {
      "cell_type": "code",
      "metadata": {
        "id": "M86zIjRyc_6L",
        "colab_type": "code",
        "colab": {}
      },
      "source": [
        "print(H.shape)\n",
        "H = np.array(H)\n",
        "pos = np.array(pos)\n",
        "#data = H.reshape((17486,16,924,2))\n",
        "#Y = pos.reshape((17486,3))"
      ],
      "execution_count": null,
      "outputs": []
    },
    {
      "cell_type": "code",
      "metadata": {
        "id": "-VcQnxbTi4Wx",
        "colab_type": "code",
        "colab": {}
      },
      "source": [
        "data = H.swapaxes(0,-1)\n",
        "print(data.shape)\n",
        "\n",
        "print(data[1].shape)\n",
        "print(H[1,:,:,1])"
      ],
      "execution_count": null,
      "outputs": []
    },
    {
      "cell_type": "code",
      "metadata": {
        "id": "-HwU9usq4-kA",
        "colab_type": "code",
        "colab": {}
      },
      "source": [
        "pos = pos.swapaxes(0,1)\n",
        "print(pos.shape)\n",
        "print(pos[1])"
      ],
      "execution_count": null,
      "outputs": []
    },
    {
      "cell_type": "code",
      "metadata": {
        "id": "ftEKpQCmL12n",
        "colab_type": "code",
        "colab": {}
      },
      "source": [
        "#dividing the data for testing and training\n",
        "\n",
        "from sklearn.model_selection import train_test_split\n",
        "X_train,X_test = train_test_split(data, test_size=0.1, random_state=42, shuffle=True)\n",
        "y_train,y_test = train_test_split(pos, test_size=0.1, random_state=42, shuffle=True)\n",
        "#print(H_new.shape,pos.shape)\n",
        "\n",
        "print(X_train.shape,X_test.shape)\n",
        "print(y_train.shape,y_test.shape)\n",
        "\n"
      ],
      "execution_count": null,
      "outputs": []
    },
    {
      "cell_type": "code",
      "metadata": {
        "id": "frwEOmpqlVWn",
        "colab_type": "code",
        "colab": {}
      },
      "source": [
        "#CNN model\n",
        "\n",
        "def cnn2d():\n",
        "  inp = Input(shape=(924,16,2))\n",
        "  x = Conv2D(32, (3,3), padding=\"same\",activation='relu')(inp)\n",
        "  x = AveragePooling2D(pool_size=(4,1))(x)\n",
        "  x =Dropout(0.25)(x)\n",
        "  x = Conv2D(32, (3,3), padding=\"same\",activation='relu')(x)\n",
        "  x = AveragePooling2D(pool_size=(4,1))(x)\n",
        "  x = Dropout(0.25)(x)\n",
        "\n",
        "  x = Flatten()(x)\n",
        "  x = Dense(256,activation='relu')(x)\n",
        "  x = Dropout(0.2)(x)\n",
        "  x = Dense(256,activation='relu')(x)\n",
        "  x = Dropout(0.2)(x)\n",
        "  x = Dense(256,activation='relu')(x)\n",
        "  x  = Dropout(0.2)(x)\n",
        "\n",
        "  out = Dense(3)(x)\n",
        "\n",
        "  \n",
        "  return Model(inp,out)\n"
      ],
      "execution_count": null,
      "outputs": []
    },
    {
      "cell_type": "code",
      "metadata": {
        "id": "YMsss_mAzzQC",
        "colab_type": "code",
        "colab": {}
      },
      "source": [
        "m1 = cnn2d()\n",
        "print(m1.summary())"
      ],
      "execution_count": null,
      "outputs": []
    },
    {
      "cell_type": "code",
      "metadata": {
        "id": "vhjxRJjooyTS",
        "colab_type": "code",
        "colab": {}
      },
      "source": [
        "tf.config.list_physical_devices('GPU')"
      ],
      "execution_count": null,
      "outputs": []
    },
    {
      "cell_type": "code",
      "metadata": {
        "id": "bhyrWbDVkpyB",
        "colab_type": "code",
        "colab": {}
      },
      "source": [
        "# Training \n",
        "\n",
        "from keras.callbacks import EarlyStopping, ModelCheckpoint\n",
        "early_stopping = EarlyStopping(monitor='val_loss', patience = 20)\n",
        "checkpointer = ModelCheckpoint('/content/gdrive/My Drive/CTW_2019/best_cnn.h5', verbose=1, save_best_only=True)\n",
        "\n",
        "opt = RMSprop(learning_rate=0.001, decay=1e-6)\n",
        "m1.compile(loss='mean_squared_error',\n",
        "              optimizer=opt,\n",
        "              )\n",
        "\n",
        "m1.fit(X_train, y_train,\n",
        "              batch_size=20,\n",
        "              epochs=1000,\n",
        "              validation_split=0.12,\n",
        "              shuffle=True, callbacks=[early_stopping, checkpointer])\n",
        "    \n",
        "\n",
        "# Score trained model.\n",
        "scores = m1.evaluate(X_test, y_test, verbose=1)\n"
      ],
      "execution_count": null,
      "outputs": []
    },
    {
      "cell_type": "code",
      "metadata": {
        "id": "sXOCudH8C-I4",
        "colab_type": "code",
        "colab": {}
      },
      "source": [
        "def rmse(p1, p2):\n",
        "  return np.sqrt(np.sum((p1-p2)**2, axis = 1))"
      ],
      "execution_count": null,
      "outputs": []
    },
    {
      "cell_type": "code",
      "metadata": {
        "id": "ifnA3VhVEaPb",
        "colab_type": "code",
        "colab": {}
      },
      "source": [
        "#Evaluating\n",
        "\n",
        "m2 = load_model('/content/gdrive/My Drive/CTW_2019/best_cnn.h5')\n",
        "tt = m2.predict(X_test)\n",
        "print(tt)\n",
        "print(y_test)\n",
        "gg  = (rmse(tt,y_test))\n",
        "\n",
        "plt.hist(gg, bins=20)\n",
        "plt.show()\n",
        "plt.hist(np.log(gg), bins=20)"
      ],
      "execution_count": null,
      "outputs": []
    },
    {
      "cell_type": "code",
      "metadata": {
        "id": "6BEQQT9sM_wA",
        "colab_type": "code",
        "colab": {}
      },
      "source": [
        "\n",
        "\n",
        "ttt = m2.predict(X_test)\n",
        "\n",
        "dd = rmse(ttt, y_test)\n",
        "\n",
        "print(np.mean(dd))"
      ],
      "execution_count": null,
      "outputs": []
    }
  ]
}