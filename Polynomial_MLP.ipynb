{
  "nbformat": 4,
  "nbformat_minor": 0,
  "metadata": {
    "colab": {
      "name": "Copy of Copy of CTW2020.ipynb",
      "provenance": [],
      "collapsed_sections": [],
      "machine_shape": "hm",
      "include_colab_link": true
    },
    "kernelspec": {
      "name": "python3",
      "display_name": "Python 3"
    }
  },
  "cells": [
    {
      "cell_type": "markdown",
      "metadata": {
        "id": "view-in-github",
        "colab_type": "text"
      },
      "source": [
        "<a href=\"https://colab.research.google.com/github/aayush2710/CTW2019-IDP/blob/master/Polynomial_MLP.ipynb\" target=\"_parent\"><img src=\"https://colab.research.google.com/assets/colab-badge.svg\" alt=\"Open In Colab\"/></a>"
      ]
    },
    {
      "cell_type": "code",
      "metadata": {
        "id": "v5_VrAvQzC4Y",
        "colab_type": "code",
        "colab": {}
      },
      "source": [
        "#%tensorflow_version 1.x\n",
        "import numpy as np # linear algebra\n",
        "import tensorflow as tf\n",
        "import numpy as np\n",
        "import os\n",
        "import h5py\n",
        "import pandas as pd\n",
        "import time\n",
        "import matplotlib.pyplot as plt\n"
      ],
      "execution_count": null,
      "outputs": []
    },
    {
      "cell_type": "code",
      "metadata": {
        "id": "mMJ51RI26oyA",
        "colab_type": "code",
        "colab": {}
      },
      "source": [
        "from keras.models import Sequential, Model, load_model\n",
        "from keras.layers import Dense, LeakyReLU, Input, Conv2D, AveragePooling2D, MaxPooling2D, Dropout, Flatten, concatenate\n",
        "%load_ext tensorboard"
      ],
      "execution_count": null,
      "outputs": []
    },
    {
      "cell_type": "code",
      "metadata": {
        "id": "0qjIqybShB3v",
        "colab_type": "code",
        "colab": {}
      },
      "source": [
        "from google.colab import drive\n",
        "drive.mount('/content/drive', force_remount=True)"
      ],
      "execution_count": null,
      "outputs": []
    },
    {
      "cell_type": "code",
      "metadata": {
        "id": "ALv8-1mzkVlJ",
        "colab_type": "code",
        "colab": {}
      },
      "source": [
        "import h5py\n",
        "\n",
        "def load_data(path):\n",
        "    f = h5py.File(path, 'r')\n",
        "    obj = iter(f.keys())\n",
        "    #H = f['dataset_1'][:]\n",
        "    H = f[next(obj)][:]\n",
        "    f.close()\n",
        "    return H\n",
        "\n",
        "def load_features(path):\n",
        "    f = h5py.File(path, 'r')\n",
        "    print(f.keys())\n",
        "    H = f['dataset_1'][:]\n",
        "    f.close()\n",
        "    return H\n"
      ],
      "execution_count": null,
      "outputs": []
    },
    {
      "cell_type": "code",
      "metadata": {
        "id": "vIJETmepqiyw",
        "colab_type": "code",
        "colab": {}
      },
      "source": [
        "Y_pos = load_data('/content/drive/My Drive/CTW_2019/r_Position_CTW_Train.h5')\n",
        "SNR = load_data('/content/drive/My Drive/CTW_2019/SNR_CTW_Train.h5')\n",
        "h_COMP = load_features('/content/drive/My Drive/CTW_2019/data2019.h5')\n"
      ],
      "execution_count": null,
      "outputs": []
    },
    {
      "cell_type": "code",
      "metadata": {
        "id": "DDZOXokZoXBk",
        "colab_type": "code",
        "colab": {}
      },
      "source": [
        "print(h_COMP.shape)\n",
        "print(SNR.shape)\n",
        "print(Y_pos.shape)"
      ],
      "execution_count": null,
      "outputs": []
    },
    {
      "cell_type": "markdown",
      "metadata": {
        "id": "bKTOG84MwJ9N",
        "colab_type": "text"
      },
      "source": [
        ""
      ]
    },
    {
      "cell_type": "code",
      "metadata": {
        "id": "8_-LJGH_3p6M",
        "colab_type": "code",
        "colab": {}
      },
      "source": [
        "H = load_data('/content/drive/My Drive/CTW_2019/h_Estimated_CTW_Train.h5')\n",
        "\n",
        "print(H.shape)\n",
        "H_Re = H[0,:,:,:]\n",
        "H_Im = H[1,:,:,:]\n",
        "\n",
        "data2 = np.sqrt(H_Re**2 + H_Im**2)\n",
        "data2 = data2.reshape(17486,16,924)\n",
        "print(data2.shape)\n",
        "del H_Re, H_Im"
      ],
      "execution_count": null,
      "outputs": []
    },
    {
      "cell_type": "code",
      "metadata": {
        "id": "Q4xOwa9k5PHn",
        "colab_type": "code",
        "colab": {}
      },
      "source": [
        "#Extracting polynomial features\n",
        "#run only if needed\n",
        "\n",
        "from sklearn.linear_model import LinearRegression\n",
        "from sklearn.metrics import mean_squared_error, r2_score\n",
        "from sklearn.preprocessing import PolynomialFeatures\n",
        "#%%\n",
        "dim1 = int(data2.shape[0]/2)\n",
        "#dim1 = 10\n",
        "dim2 = data2.shape[1]\n",
        "new_dim = 66\n",
        "data3 = np.zeros((dim1,dim2, new_dim))\n",
        "\n",
        "#Polynomial fitting code\n",
        "t1 = time.time()\n",
        "R2s = []\n",
        "w = np.linspace(0,1,22)\n",
        "for u in range(dim1):\n",
        "    for v in range(dim2):\n",
        "        \n",
        "        degrees = [4,5,6,7,8]\n",
        "        \n",
        "        batches = [0,242,220,473,451,704,682,924]  #len = 8\n",
        "        final_x = np.linspace(1,924,924)\n",
        "        final_y = np.zeros((924,))\n",
        "        prev = np.zeros([22,])\n",
        "        for i in range(4):\n",
        "            x = np.linspace(batches[i*2],batches[2*i + 1],-batches[i*2]+batches[2*i + 1])\n",
        "           # print()\n",
        "            #print(x.shape)\n",
        "            y = []\n",
        "        \n",
        "            for j in range(batches[i*2],batches[2*i+1]):\n",
        "                y.append(data2[u + dim1,v,j])\n",
        "             \n",
        "            y = np.array(y)\n",
        "            x = x[:, np.newaxis]\n",
        "            y = y[:, np.newaxis]\n",
        "            r2 = np.Infinity\n",
        "            best_deg = 0\n",
        "            for deg in degrees:\n",
        "                polynomial_features= PolynomialFeatures(degree=deg, interaction_only=False)\n",
        "                x_poly = polynomial_features.fit_transform(x)\n",
        "                model = LinearRegression()\n",
        "                model.fit(x_poly, y)\n",
        "                y_poly_pred = model.predict(x_poly)\n",
        "                \n",
        "                rmse = np.sqrt(mean_squared_error(y,y_poly_pred))\n",
        "                #temp = r2_score(y,y_poly_pred)\n",
        "                if rmse < r2:\n",
        "                    best_deg = deg\n",
        "                    r2 = rmse\n",
        "                    final_y[batches[i*2]:batches[2*i+1]] = y_poly_pred.reshape((-1))\n",
        "                    #print(str(r2) + \" Testing \")\n",
        "                    \n",
        "            #print(\"Best found \" + str(r2))\n",
        "            R2s.append(rmse)\n",
        "            \n",
        "            tmp1 = final_y[batches[i*2]:batches[i*2]+22]\n",
        "            if prev.all() != 0:\n",
        "                final_y[batches[i*2]:batches[i*2]+22] = tmp1*w + prev*(1-w)\n",
        "            prev = final_y[batches[i*2 + 1]-22:batches[i*2 + 1]]\n",
        "            \n",
        "        data3[u,v,:] = [final_y[i] for i in range(0,len(final_y), 14)]    \n",
        "    t2 = time.time() \n",
        "    print(str(u) + \"th of \" + str(dim1))\n",
        "    print(\"Time elasped: \" + str((t2-t1)/60) + \" mins.\")    \n",
        "    t2 = time.time() \n",
        "   # print(str(u) + \"th of \" + str(dim1))\n",
        "   # print(\"Time elasped: \" + str((t2-t1)/60) + \" mins.\")\n",
        "#%%\n",
        "t3 = time.time()\n",
        "print(\"DONE\")\n",
        "print(\"Total time: \" + str((t3-t1)/3600) + \" hrs.\")\n",
        "\n"
      ],
      "execution_count": null,
      "outputs": []
    },
    {
      "cell_type": "code",
      "metadata": {
        "id": "WZofQxkpWl4e",
        "colab_type": "code",
        "colab": {}
      },
      "source": [
        "hf = h5py.File('/content/drive/My Drive/CTW_2019/data_feat2.h5', 'w')\n",
        "hf.create_dataset('dataset_1', data=data3)\n",
        "hf.close()"
      ],
      "execution_count": null,
      "outputs": []
    },
    {
      "cell_type": "code",
      "metadata": {
        "id": "qWMhCYm_5QPl",
        "colab_type": "code",
        "colab": {}
      },
      "source": [
        "#data_generator if disk dont have enough memory to run in large batches\n",
        "\n",
        "\n",
        "from keras.callbacks import EarlyStopping, ModelCheckpoint, TensorBoard\n",
        "from keras.optimizers import Adadelta, Adam, RMSprop\n",
        "\n",
        "\n",
        "def data_gen(data):\n",
        "    for i in range(len(data)):\n",
        "        yield (data[i:i+1],data[i:i+1])\n",
        "\n",
        "def data_gen2(data, target):\n",
        "    for i in range(len(data)):\n",
        "        yield (data[i:i+1],target[i:i+1])\n",
        "    "
      ],
      "execution_count": null,
      "outputs": []
    },
    {
      "cell_type": "markdown",
      "metadata": {
        "id": "MVhscfScpt22",
        "colab_type": "text"
      },
      "source": [
        ""
      ]
    },
    {
      "cell_type": "code",
      "metadata": {
        "id": "5KKGuHAEhfx0",
        "colab_type": "code",
        "colab": {}
      },
      "source": [
        "#NN model\n",
        "\n",
        "def mlp():\n",
        "  inp = Input(shape=(16,66))\n",
        "  x = Flatten()(inp)\n",
        "  x = Dense(1024,activation = 'relu')(x)\n",
        "  #x = Dense(1024, activation = 'relu')(x)\n",
        "  x = Dropout(0.03)(x)\n",
        "  x = Dense(512, activation = 'relu',kernel_initializer='glorot_uniform',\n",
        "                bias_initializer='zeros')(x)\n",
        "  x = Dropout(0.03)(x)\n",
        "  x = Dense(256, activation = 'relu',kernel_initializer='glorot_uniform',\n",
        "                bias_initializer='zeros')(x)\n",
        "  x = Dropout(0.03)(x)\n",
        "  x = Dense(128, activation = 'relu',kernel_initializer='glorot_uniform',\n",
        "                bias_initializer='zeros')(x)\n",
        "  x = Dropout(0.03)(x)\n",
        "  x = Dense(32, activation = 'relu',kernel_initializer='glorot_uniform',\n",
        "                bias_initializer='ones')(x)\n",
        "  x = Dropout(0.03)(x)\n",
        "  x = Dense(12, activation = 'relu',kernel_initializer='glorot_uniform',\n",
        "                bias_initializer='ones')(x)\n",
        "  x = Dropout(0.03)(x)\n",
        "  op = Dense(3, activation = 'relu',kernel_initializer='glorot_uniform',\n",
        "                bias_initializer='ones')(x)\n",
        "  return Model(inp, op)\n",
        "\n"
      ],
      "execution_count": null,
      "outputs": []
    },
    {
      "cell_type": "code",
      "metadata": {
        "id": "j3AbN9AhkV3T",
        "colab_type": "code",
        "colab": {}
      },
      "source": [
        "#dividing the dataset for training and testing\n",
        "\n",
        "from sklearn.model_selection import train_test_split\n",
        "h_COMP = np.swapaxes(h_COMP,0,2)\n",
        "Y_pos = np.swapaxes(Y_pos,0,1)\n",
        "SNR = np.swapaxes(SNR,0,1)\n",
        "\n",
        "X_train,X_test = train_test_split(h_COMP, test_size=0.1, random_state=42, shuffle=True)\n",
        "y_train,y_test = train_test_split(Y_pos, test_size=0.1, random_state=42, shuffle=True)\n",
        "SNR_train, SNR_test = train_test_split(SNR, test_size=0.1, random_state=42, shuffle=True)\n",
        "#print(H_new.shape,pos.shape)\n",
        "\n",
        "print(X_train.shape,X_test.shape)\n",
        "print(y_train.shape,y_test.shape)\n",
        "print(SNR_train.shape,SNR_test.shape)\n"
      ],
      "execution_count": null,
      "outputs": []
    },
    {
      "cell_type": "code",
      "metadata": {
        "id": "1Ta1nCqQyYo7",
        "colab_type": "code",
        "colab": {}
      },
      "source": [
        "del h_COMP, SNR, Y_pos"
      ],
      "execution_count": null,
      "outputs": []
    },
    {
      "cell_type": "code",
      "metadata": {
        "id": "Pi2KcPRT0d6D",
        "colab_type": "code",
        "colab": {}
      },
      "source": [
        "X_train, X_test = X_train[:,:,:,np.newaxis], X_test[:,:,:,np.newaxis]\n",
        "print(X_train.shape,X_test.shape)\n"
      ],
      "execution_count": null,
      "outputs": []
    },
    {
      "cell_type": "code",
      "metadata": {
        "id": "PrSpM2lpmGjo",
        "colab_type": "code",
        "colab": {}
      },
      "source": [
        "#training\n",
        "\n",
        "mlp_2019 = mlp()\n",
        "from sklearn.model_selection import KFold\n",
        "opt = RMSprop(learning_rate=0.001, decay=1e-6)\n",
        "mlp_2019.compile(optimizer=opt,loss = 'mean_squared_error')\n",
        "from keras.callbacks import EarlyStopping, ModelCheckpoint\n",
        "early_stopping = EarlyStopping(monitor='val_loss', patience = 20)\n",
        "checkpointer = ModelCheckpoint('/content/drive/My Drive/CTW_2019/CTW2019_mean_sqr2.h5', verbose=1, save_best_only=True)\n",
        "mlp_2019.fit(X_train, y_train, epochs = 150, verbose=1, batch_size = 20, validation_split=0.1, callbacks = [checkpointer, early_stopping])\n",
        "\n"
      ],
      "execution_count": null,
      "outputs": []
    },
    {
      "cell_type": "code",
      "metadata": {
        "id": "w1a9K_HOi1th",
        "colab_type": "code",
        "colab": {}
      },
      "source": [
        "def rmse(p1, p2):\n",
        "  return np.sqrt(np.sum((p1-p2)**2, axis = 1))"
      ],
      "execution_count": null,
      "outputs": []
    },
    {
      "cell_type": "code",
      "metadata": {
        "id": "89vN141bjB7l",
        "colab_type": "code",
        "colab": {}
      },
      "source": [
        "#checking error\n",
        "\n",
        "m2  = load_model(\"/content/drive/My Drive/CTW_2019/CTW2019_mean_sqr2.h5\")\n",
        "l = 140\n",
        "r = 150\n",
        "pred = m2.predict(X_test)\n",
        "org = y_test\n",
        "print(pred[:,:-1].shape)\n",
        "print(org[:,:-1].shape)\n",
        "print(np.mean(rmse(pred, org)))\n",
        "print(np.mean(rmse(pred[:,:-1], org[:,:-1])))"
      ],
      "execution_count": null,
      "outputs": []
    },
    {
      "cell_type": "code",
      "metadata": {
        "id": "Isu3Gf2tQo4X",
        "colab_type": "code",
        "colab": {}
      },
      "source": [
        "error = np.array(error)\n",
        "np.savetxt('/content/drive/My Drive/CTW_2019/test.out', x, delimiter=',')"
      ],
      "execution_count": null,
      "outputs": []
    }
  ]
}