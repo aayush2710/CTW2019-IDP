{
 "cells": [
  {
   "cell_type": "code",
   "execution_count": null,
   "metadata": {},
   "outputs": [],
   "source": [
    "CSI_Path = \"\"\n",
    "Pos_Path = \"\"\n",
    "#Path to dataset files"
   ]
  },
  {
   "cell_type": "code",
   "execution_count": null,
   "metadata": {},
   "outputs": [],
   "source": [
    "import h5py\n",
    "import numpy as np\n",
    "import os\n",
    "from sklearn.model_selection import train_test_split"
   ]
  },
  {
   "cell_type": "markdown",
   "metadata": {},
   "source": [
    "Loading the dataset"
   ]
  },
  {
   "cell_type": "code",
   "execution_count": null,
   "metadata": {},
   "outputs": [],
   "source": [
    "f = h5py.File(CSI_Path , \"r\")\n",
    "H_Re, H_Im = f['h_Estimated'][:]\n",
    "f.close()\n",
    "f = h5py.File(Pos_Path , \"r\")\n",
    "pos = f[\"r_Position\"][:]\n",
    "f.close()"
   ]
  },
  {
   "cell_type": "code",
   "execution_count": null,
   "metadata": {},
   "outputs": [],
   "source": [
    "H_Mag = H_Re**2 + H_Im**2\n",
    "del H_Re , H_Im\n",
    "H_Mag = np.sqrt(H_Mag)\n",
    "H_Mag = H_Mag.T\n",
    "pos = pos.T"
   ]
  },
  {
   "cell_type": "markdown",
   "metadata": {},
   "source": [
    "Creating custom test set"
   ]
  },
  {
   "cell_type": "code",
   "execution_count": null,
   "metadata": {},
   "outputs": [],
   "source": [
    "X_train, X_test, y_train, y_test = train_test_split(H_Mag, pos, test_size=0.1, random_state=42)"
   ]
  },
  {
   "cell_type": "code",
   "execution_count": null,
   "metadata": {},
   "outputs": [],
   "source": [
    "X_train = X_train.reshape(X_train.shape[0],X_train.shape[1],X_train.shape[2],1)"
   ]
  },
  {
   "cell_type": "code",
   "execution_count": null,
   "metadata": {},
   "outputs": [],
   "source": [
    "import tensorflow.keras\n",
    "from tensorflow.keras.models import Sequential, Model , load_model\n",
    "from tensorflow.keras.layers import Dense\n",
    "from tensorflow.keras.optimizers import Adam\n",
    "from tensorflow.keras.callbacks import EarlyStopping, ModelCheckpoint"
   ]
  },
  {
   "cell_type": "code",
   "execution_count": null,
   "metadata": {},
   "outputs": [],
   "source": [
    "def create_model():\n",
    "    '''AutoEncoder Model'''\n",
    "    model = Sequential()\n",
    "    model.add(Conv2D(4,(3, 3),activation='tanh',padding='same', input_shape=(16,924,1)))\n",
    "    model.add(MaxPooling2D((2, 2), padding='same'))\n",
    "    model.add(Flatten())\n",
    "    model.add(Dense(3000, activation = 'tanh'))\n",
    "    model.add(Dense(2000, activation = 'softplus'))\n",
    "    model.add(Dense(1000, activation = 'tanh'))\n",
    "    '''Encoded Output'''\n",
    "    model.add(Dense(500, activation = 'linear'))\n",
    "    model.add(Dense(1000, activation = 'relu'))\n",
    "    model.add(Dense(2000, activation = 'softplus'))\n",
    "    model.add(Dense(3000, activation='tanh'))\n",
    "    model.add(Dense(14784 , activation='tanh'))\n",
    "    model.add(Reshape((8,462,4)))\n",
    "    model.add(UpSampling2D((2, 2)))\n",
    "    '''Decoded Output'''\n",
    "    model.add(Conv2D(1,(3, 3),padding='same'))\n",
    "    model.compile(loss= 'mse', optimizer = Adam(1e-4))\n",
    "    return model"
   ]
  },
  {
   "cell_type": "markdown",
   "metadata": {},
   "source": [
    "Training Autoencoder (Channel Charting)"
   ]
  },
  {
   "cell_type": "code",
   "execution_count": null,
   "metadata": {},
   "outputs": [],
   "source": [
    "autoencoder = create_model()\n",
    "autoencoder.summary()"
   ]
  },
  {
   "cell_type": "code",
   "execution_count": null,
   "metadata": {},
   "outputs": [],
   "source": [
    "earlystopper = EarlyStopping(patience = 25, verbose=1)\n",
    "checkpointer = ModelCheckpoint('AE_Model_Conv2.h5', verbose=1, save_best_only=True)\n",
    "autoencoder.fit(X_train,X_train , batch_size=16,epochs=50, validation_split=0.2  ,callbacks=[earlystopper, checkpointer])\n",
    "autoencoder.fit(X_train,X_train , batch_size=8,epochs=50, validation_split=0.2  ,callbacks=[earlystopper, checkpointer])"
   ]
  },
  {
   "cell_type": "markdown",
   "metadata": {},
   "source": [
    "Obtaining Channel charts via trained encoder"
   ]
  },
  {
   "cell_type": "code",
   "execution_count": null,
   "metadata": {},
   "outputs": [],
   "source": [
    "autoencoder = load_model(\"AE_Model_Conv2.h5\")\n",
    "encoder = Model(autoencoder.input,autoencoder.layers[-8].output)\n",
    "X_tr = encoder.predict(X_train)\n",
    "X_tr = X_tr.reshape(X_tr.shape[0],X_tr.shape[1],1)\n",
    "X_tr.shape"
   ]
  },
  {
   "cell_type": "code",
   "execution_count": null,
   "metadata": {},
   "outputs": [],
   "source": [
    "from tensorflow.keras.models import Model,Sequential , load_model\n",
    "from tensorflow.keras.layers import Input\n",
    "from tensorflow.keras.layers import Dense , Dropout, Conv1D ,Flatten\n",
    "from tensorflow.keras.optimizers import Adam, SGD"
   ]
  },
  {
   "cell_type": "code",
   "execution_count": null,
   "metadata": {},
   "outputs": [],
   "source": [
    "def classifier():\n",
    "    ''' Deep CNN to estimate postition'''\n",
    "    model = Sequential()\n",
    "    model.add(Conv1D(32,5,input_shape=(100,1)))\n",
    "    model.add(Flatten())\n",
    "    model.add(Dropout(0.03))\n",
    "    model.add(Dense(928 ,activation = 'relu' ))\n",
    "    model.add(Dropout(0.03))\n",
    "    model.add(Dense(256 ,activation = 'relu' ))\n",
    "    model.add(Dense(128 ,activation = 'relu' ))\n",
    "    model.add(Dropout(0.03))\n",
    "    model.add(Dense(64 ,activation = 'relu' ))\n",
    "    model.add(Dropout(0.03))\n",
    "    model.add(Dense(32 ,activation = 'relu' ))\n",
    "    model.add(Dropout(0.03))\n",
    "    model.add(Dense(16 ,activation = 'relu' ))\n",
    "    model.add(Dropout(0.03))\n",
    "    model.add(Dense(6 ,activation = 'relu' ))\n",
    "    model.add(Dropout(0.03))\n",
    "    model.add(Dense(3))\n",
    "    model.compile(loss='mean_squared_error', optimizer = Adam(7e-4)) \n",
    "    return model"
   ]
  },
  {
   "cell_type": "markdown",
   "metadata": {},
   "source": [
    "Training network to estimate position"
   ]
  },
  {
   "cell_type": "code",
   "execution_count": null,
   "metadata": {},
   "outputs": [],
   "source": [
    "model = classifier()\n",
    "model.summary()"
   ]
  },
  {
   "cell_type": "code",
   "execution_count": null,
   "metadata": {},
   "outputs": [],
   "source": [
    "from tensorflow.keras.callbacks import EarlyStopping, ModelCheckpoint\n",
    "earlystopper = EarlyStopping(patience = 50, verbose=1)\n",
    "checkpointer = ModelCheckpoint('best_AE.h5', verbose=1, save_best_only=True)\n",
    "hist = model.fit(X_tr,y_train , batch_size=8,epochs=1000, validation_split=0.1  ,callbacks=[earlystopper, checkpointer])\n",
    "val_loss = hist.history['val_loss']"
   ]
  },
  {
   "cell_type": "markdown",
   "metadata": {},
   "source": [
    "Evaluating performance on test set"
   ]
  },
  {
   "cell_type": "code",
   "execution_count": null,
   "metadata": {},
   "outputs": [],
   "source": [
    "autoencoder = load_model(\"AE_Model_Conv.h5\")\n",
    "encoder = Model(autoencoder.input,autoencoder.layers[-8].output)\n",
    "X_test = X_test.reshape(X_test.shape[0],X_test.shape[1],X_test.shape[2],1)\n",
    "X_test = encoder.predict(X_test)\n",
    "X_test = X_test.reshape(X_test.shape[0],X_test.shape[1],1)\n",
    "X_test.shape\n",
    "del autoencoder, X_train, H_Mag\n",
    "X_test.shape"
   ]
  },
  {
   "cell_type": "code",
   "execution_count": null,
   "metadata": {},
   "outputs": [],
   "source": [
    "best = load_model(\"best_AE.h5\")\n",
    "out = best.predict(X_test)\n",
    "error = np.sum((out-y_test)**2 , axis=1)\n",
    "np.mean(np.sqrt(error))"
   ]
  },
  {
   "cell_type": "code",
   "execution_count": null,
   "metadata": {},
   "outputs": [],
   "source": [
    "import matplotlib.pyplot as plt\n",
    "plt.title(\"Root Mean Squared Error\")\n",
    "plt.hist(np.sqrt(error),50)"
   ]
  },
  {
   "cell_type": "code",
   "execution_count": null,
   "metadata": {},
   "outputs": [],
   "source": [
    "autoencoder = load_model(\"AE_Model_Conv.h5\")\n",
    "encoder = Model(autoencoder.input,autoencoder.layers[-9].output)\n",
    "keras.utils.plot_model(\n",
    "    encoder,\n",
    "    to_file=\"model.png\",\n",
    "    show_shapes=True,\n",
    "    show_layer_names=True,\n",
    "    rankdir=\"TB\",\n",
    "    expand_nested=False,\n",
    "    dpi=96,\n",
    ")"
   ]
  }
 ],
 "metadata": {
  "kernelspec": {
   "display_name": "Python 3",
   "language": "python",
   "name": "python3"
  },
  "language_info": {
   "codemirror_mode": {
    "name": "ipython",
    "version": 3
   },
   "file_extension": ".py",
   "mimetype": "text/x-python",
   "name": "python",
   "nbconvert_exporter": "python",
   "pygments_lexer": "ipython3",
   "version": "3.8.3"
  }
 },
 "nbformat": 4,
 "nbformat_minor": 4
}
